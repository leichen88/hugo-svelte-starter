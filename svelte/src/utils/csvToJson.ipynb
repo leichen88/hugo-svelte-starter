{
 "cells": [
  {
   "cell_type": "code",
   "execution_count": null,
   "id": "b4ea1edf",
   "metadata": {},
   "outputs": [],
   "source": [
    "import pandas as pd\n",
    "csv_file = pd.DataFrame(pd.read_csv(\"https://raw.githubusercontent.com/GDS-ODSSS/unhcr-dataviz-platform/master/data/comparison/bar.csv\", sep = \",\", header = 0, index_col = False))\n",
    "csv_file.to_json(\"data.js\", orient = \"records\", date_format = \"epoch\", double_precision = 10, force_ascii = True, date_unit = \"ms\", default_handler = None)\n"
   ]
  }
 ],
 "metadata": {
  "kernelspec": {
   "display_name": "dvpenv",
   "language": "python",
   "name": "python3"
  },
  "language_info": {
   "codemirror_mode": {
    "name": "ipython",
    "version": 3
   },
   "file_extension": ".py",
   "mimetype": "text/x-python",
   "name": "python",
   "nbconvert_exporter": "python",
   "pygments_lexer": "ipython3",
   "version": "3.11.5"
  }
 },
 "nbformat": 4,
 "nbformat_minor": 5
}
